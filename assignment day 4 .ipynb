{
 "cells": [
  {
   "cell_type": "markdown",
   "metadata": {},
   "source": [
    "# assignment day 4"
   ]
  },
  {
   "cell_type": "code",
   "execution_count": 1,
   "metadata": {
    "scrolled": true
   },
   "outputs": [
    {
     "name": "stdout",
     "output_type": "stream",
     "text": [
      "enter the element of the list-12\n",
      "enter Y/Ny\n",
      "enter the element of the list-25\n",
      "enter Y/Nn\n",
      "its gone\n"
     ]
    }
   ],
   "source": [
    "super_list=[]\n",
    "\n",
    "while True:\n",
    "    super_list.append(int(input(\"enter the element of the list-\")))\n",
    "    char=input(\"enter Y/N\")\n",
    "    char=char.lower()\n",
    "    if  not char.startswith('y'):\n",
    "        break\n",
    "sub_list=[1,1,5]\n",
    "num=0\n",
    "while num < len(super_list)and len(sub_list)>0:\n",
    "    if super_list[num] == sub_list[0]:\n",
    "        sub_list.pop(0)\n",
    "\n",
    "    num +=1\n",
    "if len(sub_list)== 0:\n",
    "    print(\"its a match\")\n",
    "else:\n",
    "    print(\"its gone\")\n",
    "    \n"
   ]
  },
  {
   "cell_type": "code",
   "execution_count": null,
   "metadata": {},
   "outputs": [],
   "source": []
  }
 ],
 "metadata": {
  "kernelspec": {
   "display_name": "Python 3 (ipykernel)",
   "language": "python",
   "name": "python3"
  },
  "language_info": {
   "codemirror_mode": {
    "name": "ipython",
    "version": 3
   },
   "file_extension": ".py",
   "mimetype": "text/x-python",
   "name": "python",
   "nbconvert_exporter": "python",
   "pygments_lexer": "ipython3",
   "version": "3.9.12"
  }
 },
 "nbformat": 4,
 "nbformat_minor": 4
}
